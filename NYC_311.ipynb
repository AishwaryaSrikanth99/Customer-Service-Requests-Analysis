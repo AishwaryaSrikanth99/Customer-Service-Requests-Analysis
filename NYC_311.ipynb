{
 "cells": [
  {
   "cell_type": "code",
   "execution_count": 50,
   "metadata": {},
   "outputs": [],
   "source": [
    "#Importing the necessary packages\n",
    "\n",
    "import pandas as pd\n",
    "import numpy as np\n",
    "from datetime import datetime\n",
    "import matplotlib.pyplot as plt\n",
    " "
   ]
  },
  {
   "cell_type": "code",
   "execution_count": 51,
   "metadata": {},
   "outputs": [],
   "source": [
    "#Importing the NYC Dataset\n",
    "\n",
    "data=pd.read_csv(\"NYCRequests.csv\",low_memory=False,header=0,\n",
    "    sep=',',index_col='Unique Key')"
   ]
  },
  {
   "cell_type": "code",
   "execution_count": 52,
   "metadata": {},
   "outputs": [
    {
     "name": "stdout",
     "output_type": "stream",
     "text": [
      "                Created Date    Closed Date Agency  \\\n",
      "Unique Key                                           \n",
      "32310363    12/31/2015 23:59  1/1/2016 0:55   NYPD   \n",
      "32309934    12/31/2015 23:59  1/1/2016 1:26   NYPD   \n",
      "32309159    12/31/2015 23:59  1/1/2016 4:51   NYPD   \n",
      "32305098    12/31/2015 23:57  1/1/2016 7:43   NYPD   \n",
      "32306529    12/31/2015 23:56  1/1/2016 3:24   NYPD   \n",
      "\n",
      "                                Agency Name           Complaint Type  \\\n",
      "Unique Key                                                             \n",
      "32310363    New York City Police Department  Noise - Street/Sidewalk   \n",
      "32309934    New York City Police Department         Blocked Driveway   \n",
      "32309159    New York City Police Department         Blocked Driveway   \n",
      "32305098    New York City Police Department          Illegal Parking   \n",
      "32306529    New York City Police Department          Illegal Parking   \n",
      "\n",
      "                              Descriptor    Location Type  Incident Zip  \\\n",
      "Unique Key                                                                \n",
      "32310363                Loud Music/Party  Street/Sidewalk       10034.0   \n",
      "32309934                       No Access  Street/Sidewalk       11105.0   \n",
      "32309159                       No Access  Street/Sidewalk       10458.0   \n",
      "32305098    Commercial Overnight Parking  Street/Sidewalk       10461.0   \n",
      "32306529                Blocked Sidewalk  Street/Sidewalk       11373.0   \n",
      "\n",
      "                 Incident Address       Street Name  ... Bridge Highway Name  \\\n",
      "Unique Key                                           ...                       \n",
      "32310363      71 VERMILYEA AVENUE  VERMILYEA AVENUE  ...                 NaN   \n",
      "32309934          27-07 23 AVENUE         23 AVENUE  ...                 NaN   \n",
      "32309159    2897 VALENTINE AVENUE  VALENTINE AVENUE  ...                 NaN   \n",
      "32305098      2940 BAISLEY AVENUE    BAISLEY AVENUE  ...                 NaN   \n",
      "32306529            87-14 57 ROAD           57 ROAD  ...                 NaN   \n",
      "\n",
      "           Bridge Highway Direction Road Ramp Bridge Highway Segment  \\\n",
      "Unique Key                                                             \n",
      "32310363                        NaN       NaN                    NaN   \n",
      "32309934                        NaN       NaN                    NaN   \n",
      "32309159                        NaN       NaN                    NaN   \n",
      "32305098                        NaN       NaN                    NaN   \n",
      "32306529                        NaN       NaN                    NaN   \n",
      "\n",
      "           Garage Lot Name Ferry Direction Ferry Terminal Name   Latitude  \\\n",
      "Unique Key                                                                  \n",
      "32310363               NaN             NaN                 NaN  40.865682   \n",
      "32309934               NaN             NaN                 NaN  40.775945   \n",
      "32309159               NaN             NaN                 NaN  40.870325   \n",
      "32305098               NaN             NaN                 NaN  40.835994   \n",
      "32306529               NaN             NaN                 NaN  40.733060   \n",
      "\n",
      "            Longitude                                  Location  \n",
      "Unique Key                                                       \n",
      "32310363   -73.923501   (40.86568153633767, -73.92350095571744)  \n",
      "32309934   -73.915094  (40.775945312321085, -73.91509393898605)  \n",
      "32309159   -73.888525  (40.870324522111424, -73.88852464418646)  \n",
      "32305098   -73.828379   (40.83599404683083, -73.82837939584206)  \n",
      "32306529   -73.874170  (40.733059618956815, -73.87416975810375)  \n",
      "\n",
      "[5 rows x 52 columns]\n"
     ]
    }
   ],
   "source": [
    "#Printing the first 5 rows\n",
    "\n",
    "print(data.head())"
   ]
  },
  {
   "cell_type": "code",
   "execution_count": 53,
   "metadata": {},
   "outputs": [],
   "source": [
    "#Converting 'Created Date' column to datetime datatype\n",
    "#Converting 'Closed Date' column to datetime datatype\n",
    "#Creating a new column ‘RequestClosingTime’ as the time elapsed between request creation and request closing\n",
    "\n",
    "data['Created Date'] = pd.to_datetime(data['Created Date'])\n",
    "data['Closed Date']=pd.to_datetime(data['Closed Date'])\n",
    "data['RequestClosingTime'] = (data['Closed Date']-data['Created Date'])\n",
    "#data['RequestClosingTime_Minutes']=int(round(data['RequestClosingTime'].total_seconds() / 60))\n",
    "data = data.dropna(subset=['RequestClosingTime'])\n",
    "data['RequestClosingTime_Minutes'] = data['RequestClosingTime'].apply(lambda x :int(round(x.total_seconds() / 60)))"
   ]
  },
  {
   "cell_type": "code",
   "execution_count": 54,
   "metadata": {},
   "outputs": [
    {
     "name": "stdout",
     "output_type": "stream",
     "text": [
      "Created Date                       datetime64[ns]\n",
      "Closed Date                        datetime64[ns]\n",
      "Agency                                     object\n",
      "Agency Name                                object\n",
      "Complaint Type                             object\n",
      "Descriptor                                 object\n",
      "Location Type                              object\n",
      "Incident Zip                              float64\n",
      "Incident Address                           object\n",
      "Street Name                                object\n",
      "Cross Street 1                             object\n",
      "Cross Street 2                             object\n",
      "Intersection Street 1                      object\n",
      "Intersection Street 2                      object\n",
      "Address Type                               object\n",
      "City                                       object\n",
      "Landmark                                   object\n",
      "Facility Type                              object\n",
      "Status                                     object\n",
      "Due Date                                   object\n",
      "Resolution Description                     object\n",
      "Resolution Action Updated Date             object\n",
      "Community Board                            object\n",
      "Borough                                    object\n",
      "X Coordinate (State Plane)                float64\n",
      "Y Coordinate (State Plane)                float64\n",
      "Park Facility Name                         object\n",
      "Park Borough                               object\n",
      "School Name                                object\n",
      "School Number                              object\n",
      "School Region                              object\n",
      "School Code                                object\n",
      "School Phone Number                        object\n",
      "School Address                             object\n",
      "School City                                object\n",
      "School State                               object\n",
      "School Zip                                 object\n",
      "School Not Found                           object\n",
      "School or Citywide Complaint              float64\n",
      "Vehicle Type                              float64\n",
      "Taxi Company Borough                      float64\n",
      "Taxi Pick Up Location                     float64\n",
      "Bridge Highway Name                        object\n",
      "Bridge Highway Direction                   object\n",
      "Road Ramp                                  object\n",
      "Bridge Highway Segment                     object\n",
      "Garage Lot Name                           float64\n",
      "Ferry Direction                            object\n",
      "Ferry Terminal Name                        object\n",
      "Latitude                                  float64\n",
      "Longitude                                 float64\n",
      "Location                                   object\n",
      "RequestClosingTime                timedelta64[ns]\n",
      "RequestClosingTime_Minutes                  int64\n",
      "dtype: object\n"
     ]
    }
   ],
   "source": [
    "#Printing the Data Type of all the columns\n",
    "\n",
    "print(data.dtypes)"
   ]
  },
  {
   "cell_type": "code",
   "execution_count": 55,
   "metadata": {},
   "outputs": [
    {
     "data": {
      "text/plain": [
       "Unique Key\n",
       "32310363      56\n",
       "32309934      87\n",
       "32309159     292\n",
       "32305098     466\n",
       "32306529     208\n",
       "32306554     114\n",
       "32306559     118\n",
       "32307009     108\n",
       "32308581     514\n",
       "32308391      84\n",
       "32305071     469\n",
       "32306260     668\n",
       "32306612     149\n",
       "32305074     511\n",
       "32309424     630\n",
       "32309853     933\n",
       "32305538     292\n",
       "32310273      52\n",
       "32306617     177\n",
       "32308195      48\n",
       "32310127     272\n",
       "32307994     573\n",
       "32307233      76\n",
       "32308765      53\n",
       "32308423    3891\n",
       "32308426     197\n",
       "32305916      27\n",
       "32308379     341\n",
       "32309402     107\n",
       "32308850     150\n",
       "            ... \n",
       "30279563      19\n",
       "30282107     157\n",
       "30283741     264\n",
       "30284125     505\n",
       "30283901     226\n",
       "30282374     942\n",
       "30280817      88\n",
       "30283364     140\n",
       "30280353      61\n",
       "30280974     433\n",
       "30280622     377\n",
       "30282979     376\n",
       "30281254      73\n",
       "30281090     216\n",
       "30283933     174\n",
       "30283186     386\n",
       "30284534     176\n",
       "30281081      27\n",
       "30280506     222\n",
       "30281145      14\n",
       "30282599     135\n",
       "30280732      25\n",
       "30283432     219\n",
       "30280538     486\n",
       "30279999     137\n",
       "30281370      39\n",
       "30281230     120\n",
       "30283424     187\n",
       "30280004     245\n",
       "30281825     248\n",
       "Name: RequestClosingTime_Minutes, Length: 298534, dtype: int64"
      ]
     },
     "execution_count": 55,
     "metadata": {},
     "output_type": "execute_result"
    }
   ],
   "source": [
    "data['RequestClosingTime_Minutes']"
   ]
  },
  {
   "cell_type": "code",
   "execution_count": 56,
   "metadata": {},
   "outputs": [
    {
     "data": {
      "image/png": "[encoded data removed]",
      "text/plain": [
       "<Figure size 720x432 with 1 Axes>"
      ]
     },
     "metadata": {
      "needs_background": "light"
     },
     "output_type": "display_data"
    }
   ],
   "source": [
    "#plot complaint types - Most Common complaints\n",
    "\n",
    "(data['Complaint Type'].value_counts()).head(10).plot(kind='bar',\n",
    "                    figsize=(10,6), title = 'Most common Complaints')\n",
    "plt.show()\n",
    "\n"
   ]
  },
  {
   "cell_type": "code",
   "execution_count": 57,
   "metadata": {},
   "outputs": [
    {
     "data": {
      "image/png": "[encoded data removed]",
      "text/plain": [
       "<Figure size 720x432 with 1 Axes>"
      ]
     },
     "metadata": {
      "needs_background": "light"
     },
     "output_type": "display_data"
    }
   ],
   "source": [
    "# Plot 'Least Common Complaints'\n",
    "\n",
    "(data['Complaint Type'].value_counts()).tail(10).plot(kind='bar',\n",
    "                   figsize=(10,6), title = 'Least common Complaints')\n",
    "plt.show()\n"
   ]
  },
  {
   "cell_type": "code",
   "execution_count": 58,
   "metadata": {},
   "outputs": [
    {
     "data": {
      "image/png": "[encoded data removed]",
      "text/plain": [
       "<Figure size 576x432 with 1 Axes>"
      ]
     },
     "metadata": {},
     "output_type": "display_data"
    }
   ],
   "source": [
    "#Plot 'Number of complaints distributed by borough'\n",
    "\n",
    "data['Borough'].value_counts().plot(kind='pie',\n",
    "                         shadow=False, \n",
    "                        figsize = (8,6))\n",
    "\n",
    "plt.legend(title='BOROUGH', loc='upper right', bbox_to_anchor=(1.5,1))\n",
    "plt.axis('equal')\n",
    "plt.title('# complaints distribution across Boroughs')\n",
    "plt.tight_layout()\n",
    "plt.show()"
   ]
  },
  {
   "cell_type": "code",
   "execution_count": 59,
   "metadata": {},
   "outputs": [
    {
     "data": {
      "image/png": "[encoded data removed]",
      "text/plain": [
       "<Figure size 720x432 with 1 Axes>"
      ]
     },
     "metadata": {
      "needs_background": "light"
     },
     "output_type": "display_data"
    }
   ],
   "source": [
    "#Location types versus complaints\n",
    "\n",
    "(data['Location Type'].value_counts()).head(10).plot(kind='bar',\n",
    "                    figsize=(10,6), title = 'Location Types - Complaints')\n",
    "plt.show()"
   ]
  },
  {
   "cell_type": "code",
   "execution_count": 60,
   "metadata": {},
   "outputs": [],
   "source": [
    "\n",
    "#Grouping the complaints on the basis of time taken to close complaints"
   ]
  },
  {
   "cell_type": "code",
   "execution_count": 61,
   "metadata": {},
   "outputs": [],
   "source": [
    "import math"
   ]
  },
  {
   "cell_type": "code",
   "execution_count": 62,
   "metadata": {},
   "outputs": [],
   "source": [
    "def minToCategory(min):\n",
    "    if (math.isnan(min)):\n",
    "        return 'Unspecified'\n",
    "    elif (min < 120.0):\n",
    "        return 'Fast'\n",
    "    elif (240.0 > min >= 120.0):\n",
    "        return 'Medium'\n",
    "    elif (360.0 > min >= 240.0):\n",
    "        return 'Slow'\n",
    "    else:\n",
    "        return 'Very Slow'"
   ]
  },
  {
   "cell_type": "code",
   "execution_count": 63,
   "metadata": {},
   "outputs": [],
   "source": [
    "data['Request_Closing_Time_Category'] = data['RequestClosingTime_Minutes'].apply(minToCategory)\n"
   ]
  },
  {
   "cell_type": "code",
   "execution_count": 64,
   "metadata": {},
   "outputs": [
    {
     "name": "stdout",
     "output_type": "stream",
     "text": [
      "Unique Key\n",
      "32310363         Fast\n",
      "32309934         Fast\n",
      "32309159         Slow\n",
      "32305098    Very Slow\n",
      "32306529       Medium\n",
      "Name: Request_Closing_Time_Category, dtype: object\n"
     ]
    }
   ],
   "source": [
    "print(data['Request_Closing_Time_Category'].head())"
   ]
  },
  {
   "cell_type": "code",
   "execution_count": 65,
   "metadata": {},
   "outputs": [
    {
     "data": {
      "text/plain": [
       "Fast         115463\n",
       "Medium        77211\n",
       "Very Slow     63429\n",
       "Slow          42431\n",
       "Name: Request_Closing_Time_Category, dtype: int64"
      ]
     },
     "execution_count": 65,
     "metadata": {},
     "output_type": "execute_result"
    }
   ],
   "source": [
    "#Finding the unique categories \n",
    "\n",
    "data['Request_Closing_Time_Category'].value_counts()"
   ]
  },
  {
   "cell_type": "code",
   "execution_count": 66,
   "metadata": {},
   "outputs": [
    {
     "data": {
      "image/png": "[encoded data removed]",
      "text/plain": [
       "<Figure size 1080x216 with 1 Axes>"
      ]
     },
     "metadata": {
      "needs_background": "light"
     },
     "output_type": "display_data"
    }
   ],
   "source": [
    "# Bar plot for Request_Closing_Time_Category\n",
    "\n",
    "data['Request_Closing_Time_Category'].value_counts().plot(kind=\"barh\", alpha=0.7, figsize=(15,3))\n",
    "plt.show()"
   ]
  },
  {
   "cell_type": "code",
   "execution_count": 67,
   "metadata": {},
   "outputs": [
    {
     "data": {
      "text/plain": [
       "506"
      ]
     },
     "execution_count": 67,
     "metadata": {},
     "output_type": "execute_result"
    }
   ],
   "source": [
    "#Find the number of null values in 'City' column\n",
    "\n",
    "data['City'].isnull().sum()\n"
   ]
  },
  {
   "cell_type": "code",
   "execution_count": 68,
   "metadata": {},
   "outputs": [],
   "source": [
    "# Fill all missing values with 'Not Available'\n",
    "\n",
    "data['City'].fillna('Not Available', inplace=True)"
   ]
  },
  {
   "cell_type": "code",
   "execution_count": 69,
   "metadata": {},
   "outputs": [],
   "source": [
    "#Order the complaint types based on the average ‘Request_Closing_Time’, grouping them for different locations.\n",
    "\n",
    "data_grouped = data.groupby(['City', 'Complaint Type'])\n",
    "data_mean = data_grouped.mean()['RequestClosingTime_Minutes']\n"
   ]
  },
  {
   "cell_type": "code",
   "execution_count": 70,
   "metadata": {},
   "outputs": [],
   "source": [
    "data_grouped = data.groupby(['City','Complaint Type']).agg({'RequestClosingTime_Minutes': 'mean'})\n"
   ]
  },
  {
   "cell_type": "code",
   "execution_count": 71,
   "metadata": {},
   "outputs": [
    {
     "data": {
      "text/html": [
       "<div>\n",
       "<style scoped>\n",
       "    .dataframe tbody tr th:only-of-type {\n",
       "        vertical-align: middle;\n",
       "    }\n",
       "\n",
       "    .dataframe tbody tr th {\n",
       "        vertical-align: top;\n",
       "    }\n",
       "\n",
       "    .dataframe thead th {\n",
       "        text-align: right;\n",
       "    }\n",
       "</style>\n",
       "<table border=\"1\" class=\"dataframe\">\n",
       "  <thead>\n",
       "    <tr style=\"text-align: right;\">\n",
       "      <th></th>\n",
       "      <th></th>\n",
       "      <th>RequestClosingTime_Minutes</th>\n",
       "    </tr>\n",
       "    <tr>\n",
       "      <th>City</th>\n",
       "      <th>Complaint Type</th>\n",
       "      <th></th>\n",
       "    </tr>\n",
       "  </thead>\n",
       "  <tbody>\n",
       "    <tr>\n",
       "      <th rowspan=\"16\" valign=\"top\">ARVERNE</th>\n",
       "      <th>Animal Abuse</th>\n",
       "      <td>129.236842</td>\n",
       "    </tr>\n",
       "    <tr>\n",
       "      <th>Blocked Driveway</th>\n",
       "      <td>151.628571</td>\n",
       "    </tr>\n",
       "    <tr>\n",
       "      <th>Derelict Vehicle</th>\n",
       "      <td>177.962963</td>\n",
       "    </tr>\n",
       "    <tr>\n",
       "      <th>Disorderly Youth</th>\n",
       "      <td>215.500000</td>\n",
       "    </tr>\n",
       "    <tr>\n",
       "      <th>Drinking</th>\n",
       "      <td>15.000000</td>\n",
       "    </tr>\n",
       "    <tr>\n",
       "      <th>Graffiti</th>\n",
       "      <td>92.000000</td>\n",
       "    </tr>\n",
       "    <tr>\n",
       "      <th>Homeless Encampment</th>\n",
       "      <td>109.000000</td>\n",
       "    </tr>\n",
       "    <tr>\n",
       "      <th>Illegal Parking</th>\n",
       "      <td>139.017241</td>\n",
       "    </tr>\n",
       "    <tr>\n",
       "      <th>Noise - Commercial</th>\n",
       "      <td>137.500000</td>\n",
       "    </tr>\n",
       "    <tr>\n",
       "      <th>Noise - House of Worship</th>\n",
       "      <td>93.636364</td>\n",
       "    </tr>\n",
       "    <tr>\n",
       "      <th>Noise - Park</th>\n",
       "      <td>77.000000</td>\n",
       "    </tr>\n",
       "    <tr>\n",
       "      <th>Noise - Street/Sidewalk</th>\n",
       "      <td>119.482759</td>\n",
       "    </tr>\n",
       "    <tr>\n",
       "      <th>Noise - Vehicle</th>\n",
       "      <td>111.714286</td>\n",
       "    </tr>\n",
       "    <tr>\n",
       "      <th>Panhandling</th>\n",
       "      <td>62.000000</td>\n",
       "    </tr>\n",
       "    <tr>\n",
       "      <th>Urinating in Public</th>\n",
       "      <td>42.000000</td>\n",
       "    </tr>\n",
       "    <tr>\n",
       "      <th>Vending</th>\n",
       "      <td>29.000000</td>\n",
       "    </tr>\n",
       "    <tr>\n",
       "      <th rowspan=\"14\" valign=\"top\">ASTORIA</th>\n",
       "      <th>Animal Abuse</th>\n",
       "      <td>300.008000</td>\n",
       "    </tr>\n",
       "    <tr>\n",
       "      <th>Bike/Roller/Skate Chronic</th>\n",
       "      <td>104.266667</td>\n",
       "    </tr>\n",
       "    <tr>\n",
       "      <th>Blocked Driveway</th>\n",
       "      <td>288.957601</td>\n",
       "    </tr>\n",
       "    <tr>\n",
       "      <th>Derelict Vehicle</th>\n",
       "      <td>581.344729</td>\n",
       "    </tr>\n",
       "    <tr>\n",
       "      <th>Disorderly Youth</th>\n",
       "      <td>174.333333</td>\n",
       "    </tr>\n",
       "    <tr>\n",
       "      <th>Drinking</th>\n",
       "      <td>283.314286</td>\n",
       "    </tr>\n",
       "    <tr>\n",
       "      <th>Graffiti</th>\n",
       "      <td>846.000000</td>\n",
       "    </tr>\n",
       "    <tr>\n",
       "      <th>Homeless Encampment</th>\n",
       "      <td>294.937500</td>\n",
       "    </tr>\n",
       "    <tr>\n",
       "      <th>Illegal Fireworks</th>\n",
       "      <td>166.500000</td>\n",
       "    </tr>\n",
       "    <tr>\n",
       "      <th>Illegal Parking</th>\n",
       "      <td>289.996255</td>\n",
       "    </tr>\n",
       "    <tr>\n",
       "      <th>Noise - Commercial</th>\n",
       "      <td>187.972931</td>\n",
       "    </tr>\n",
       "    <tr>\n",
       "      <th>Noise - House of Worship</th>\n",
       "      <td>121.421053</td>\n",
       "    </tr>\n",
       "    <tr>\n",
       "      <th>Noise - Park</th>\n",
       "      <td>179.721311</td>\n",
       "    </tr>\n",
       "    <tr>\n",
       "      <th>Noise - Street/Sidewalk</th>\n",
       "      <td>207.059585</td>\n",
       "    </tr>\n",
       "    <tr>\n",
       "      <th>...</th>\n",
       "      <th>...</th>\n",
       "      <td>...</td>\n",
       "    </tr>\n",
       "    <tr>\n",
       "      <th rowspan=\"7\" valign=\"top\">WOODHAVEN</th>\n",
       "      <th>Noise - House of Worship</th>\n",
       "      <td>198.333333</td>\n",
       "    </tr>\n",
       "    <tr>\n",
       "      <th>Noise - Park</th>\n",
       "      <td>82.666667</td>\n",
       "    </tr>\n",
       "    <tr>\n",
       "      <th>Noise - Street/Sidewalk</th>\n",
       "      <td>314.255814</td>\n",
       "    </tr>\n",
       "    <tr>\n",
       "      <th>Noise - Vehicle</th>\n",
       "      <td>204.270270</td>\n",
       "    </tr>\n",
       "    <tr>\n",
       "      <th>Traffic</th>\n",
       "      <td>110.166667</td>\n",
       "    </tr>\n",
       "    <tr>\n",
       "      <th>Urinating in Public</th>\n",
       "      <td>204.500000</td>\n",
       "    </tr>\n",
       "    <tr>\n",
       "      <th>Vending</th>\n",
       "      <td>170.500000</td>\n",
       "    </tr>\n",
       "    <tr>\n",
       "      <th rowspan=\"18\" valign=\"top\">WOODSIDE</th>\n",
       "      <th>Animal Abuse</th>\n",
       "      <td>506.391304</td>\n",
       "    </tr>\n",
       "    <tr>\n",
       "      <th>Bike/Roller/Skate Chronic</th>\n",
       "      <td>729.000000</td>\n",
       "    </tr>\n",
       "    <tr>\n",
       "      <th>Blocked Driveway</th>\n",
       "      <td>388.407936</td>\n",
       "    </tr>\n",
       "    <tr>\n",
       "      <th>Derelict Vehicle</th>\n",
       "      <td>563.008097</td>\n",
       "    </tr>\n",
       "    <tr>\n",
       "      <th>Disorderly Youth</th>\n",
       "      <td>73.000000</td>\n",
       "    </tr>\n",
       "    <tr>\n",
       "      <th>Drinking</th>\n",
       "      <td>328.933333</td>\n",
       "    </tr>\n",
       "    <tr>\n",
       "      <th>Graffiti</th>\n",
       "      <td>540.000000</td>\n",
       "    </tr>\n",
       "    <tr>\n",
       "      <th>Homeless Encampment</th>\n",
       "      <td>403.060606</td>\n",
       "    </tr>\n",
       "    <tr>\n",
       "      <th>Illegal Fireworks</th>\n",
       "      <td>148.000000</td>\n",
       "    </tr>\n",
       "    <tr>\n",
       "      <th>Illegal Parking</th>\n",
       "      <td>434.763187</td>\n",
       "    </tr>\n",
       "    <tr>\n",
       "      <th>Noise - Commercial</th>\n",
       "      <td>401.291866</td>\n",
       "    </tr>\n",
       "    <tr>\n",
       "      <th>Noise - House of Worship</th>\n",
       "      <td>284.666667</td>\n",
       "    </tr>\n",
       "    <tr>\n",
       "      <th>Noise - Park</th>\n",
       "      <td>405.131579</td>\n",
       "    </tr>\n",
       "    <tr>\n",
       "      <th>Noise - Street/Sidewalk</th>\n",
       "      <td>397.424000</td>\n",
       "    </tr>\n",
       "    <tr>\n",
       "      <th>Noise - Vehicle</th>\n",
       "      <td>328.876190</td>\n",
       "    </tr>\n",
       "    <tr>\n",
       "      <th>Traffic</th>\n",
       "      <td>290.076923</td>\n",
       "    </tr>\n",
       "    <tr>\n",
       "      <th>Urinating in Public</th>\n",
       "      <td>385.500000</td>\n",
       "    </tr>\n",
       "    <tr>\n",
       "      <th>Vending</th>\n",
       "      <td>438.000000</td>\n",
       "    </tr>\n",
       "    <tr>\n",
       "      <th rowspan=\"5\" valign=\"top\">Woodside</th>\n",
       "      <th>Blocked Driveway</th>\n",
       "      <td>384.181818</td>\n",
       "    </tr>\n",
       "    <tr>\n",
       "      <th>Derelict Vehicle</th>\n",
       "      <td>298.000000</td>\n",
       "    </tr>\n",
       "    <tr>\n",
       "      <th>Illegal Parking</th>\n",
       "      <td>313.180000</td>\n",
       "    </tr>\n",
       "    <tr>\n",
       "      <th>Noise - Commercial</th>\n",
       "      <td>143.500000</td>\n",
       "    </tr>\n",
       "    <tr>\n",
       "      <th>Noise - Street/Sidewalk</th>\n",
       "      <td>204.800000</td>\n",
       "    </tr>\n",
       "  </tbody>\n",
       "</table>\n",
       "<p>778 rows × 1 columns</p>\n",
       "</div>"
      ],
      "text/plain": [
       "                                     RequestClosingTime_Minutes\n",
       "City      Complaint Type                                       \n",
       "ARVERNE   Animal Abuse                               129.236842\n",
       "          Blocked Driveway                           151.628571\n",
       "          Derelict Vehicle                           177.962963\n",
       "          Disorderly Youth                           215.500000\n",
       "          Drinking                                    15.000000\n",
       "          Graffiti                                    92.000000\n",
       "          Homeless Encampment                        109.000000\n",
       "          Illegal Parking                            139.017241\n",
       "          Noise - Commercial                         137.500000\n",
       "          Noise - House of Worship                    93.636364\n",
       "          Noise - Park                                77.000000\n",
       "          Noise - Street/Sidewalk                    119.482759\n",
       "          Noise - Vehicle                            111.714286\n",
       "          Panhandling                                 62.000000\n",
       "          Urinating in Public                         42.000000\n",
       "          Vending                                     29.000000\n",
       "ASTORIA   Animal Abuse                               300.008000\n",
       "          Bike/Roller/Skate Chronic                  104.266667\n",
       "          Blocked Driveway                           288.957601\n",
       "          Derelict Vehicle                           581.344729\n",
       "          Disorderly Youth                           174.333333\n",
       "          Drinking                                   283.314286\n",
       "          Graffiti                                   846.000000\n",
       "          Homeless Encampment                        294.937500\n",
       "          Illegal Fireworks                          166.500000\n",
       "          Illegal Parking                            289.996255\n",
       "          Noise - Commercial                         187.972931\n",
       "          Noise - House of Worship                   121.421053\n",
       "          Noise - Park                               179.721311\n",
       "          Noise - Street/Sidewalk                    207.059585\n",
       "...                                                         ...\n",
       "WOODHAVEN Noise - House of Worship                   198.333333\n",
       "          Noise - Park                                82.666667\n",
       "          Noise - Street/Sidewalk                    314.255814\n",
       "          Noise - Vehicle                            204.270270\n",
       "          Traffic                                    110.166667\n",
       "          Urinating in Public                        204.500000\n",
       "          Vending                                    170.500000\n",
       "WOODSIDE  Animal Abuse                               506.391304\n",
       "          Bike/Roller/Skate Chronic                  729.000000\n",
       "          Blocked Driveway                           388.407936\n",
       "          Derelict Vehicle                           563.008097\n",
       "          Disorderly Youth                            73.000000\n",
       "          Drinking                                   328.933333\n",
       "          Graffiti                                   540.000000\n",
       "          Homeless Encampment                        403.060606\n",
       "          Illegal Fireworks                          148.000000\n",
       "          Illegal Parking                            434.763187\n",
       "          Noise - Commercial                         401.291866\n",
       "          Noise - House of Worship                   284.666667\n",
       "          Noise - Park                               405.131579\n",
       "          Noise - Street/Sidewalk                    397.424000\n",
       "          Noise - Vehicle                            328.876190\n",
       "          Traffic                                    290.076923\n",
       "          Urinating in Public                        385.500000\n",
       "          Vending                                    438.000000\n",
       "Woodside  Blocked Driveway                           384.181818\n",
       "          Derelict Vehicle                           298.000000\n",
       "          Illegal Parking                            313.180000\n",
       "          Noise - Commercial                         143.500000\n",
       "          Noise - Street/Sidewalk                    204.800000\n",
       "\n",
       "[778 rows x 1 columns]"
      ]
     },
     "execution_count": 71,
     "metadata": {},
     "output_type": "execute_result"
    }
   ],
   "source": [
    "data_grouped"
   ]
  },
  {
   "cell_type": "code",
   "execution_count": 72,
   "metadata": {},
   "outputs": [],
   "source": [
    "# drop null values from this group\n",
    "\n",
    "data_grouped_withoutna = data_grouped.dropna()"
   ]
  },
  {
   "cell_type": "code",
   "execution_count": 73,
   "metadata": {},
   "outputs": [
    {
     "name": "stdout",
     "output_type": "stream",
     "text": [
      "                                     RequestClosingTime_Minutes\n",
      "City      Complaint Type                                       \n",
      "ARVERNE   Animal Abuse                               129.236842\n",
      "          Blocked Driveway                           151.628571\n",
      "          Derelict Vehicle                           177.962963\n",
      "          Disorderly Youth                           215.500000\n",
      "          Drinking                                    15.000000\n",
      "          Graffiti                                    92.000000\n",
      "          Homeless Encampment                        109.000000\n",
      "          Illegal Parking                            139.017241\n",
      "          Noise - Commercial                         137.500000\n",
      "          Noise - House of Worship                    93.636364\n",
      "          Noise - Park                                77.000000\n",
      "          Noise - Street/Sidewalk                    119.482759\n",
      "          Noise - Vehicle                            111.714286\n",
      "          Panhandling                                 62.000000\n",
      "          Urinating in Public                         42.000000\n",
      "          Vending                                     29.000000\n",
      "ASTORIA   Animal Abuse                               300.008000\n",
      "          Bike/Roller/Skate Chronic                  104.266667\n",
      "          Blocked Driveway                           288.957601\n",
      "          Derelict Vehicle                           581.344729\n",
      "          Disorderly Youth                           174.333333\n",
      "          Drinking                                   283.314286\n",
      "          Graffiti                                   846.000000\n",
      "          Homeless Encampment                        294.937500\n",
      "          Illegal Fireworks                          166.500000\n",
      "          Illegal Parking                            289.996255\n",
      "          Noise - Commercial                         187.972931\n",
      "          Noise - House of Worship                   121.421053\n",
      "          Noise - Park                               179.721311\n",
      "          Noise - Street/Sidewalk                    207.059585\n",
      "...                                                         ...\n",
      "WOODHAVEN Noise - House of Worship                   198.333333\n",
      "          Noise - Park                                82.666667\n",
      "          Noise - Street/Sidewalk                    314.255814\n",
      "          Noise - Vehicle                            204.270270\n",
      "          Traffic                                    110.166667\n",
      "          Urinating in Public                        204.500000\n",
      "          Vending                                    170.500000\n",
      "WOODSIDE  Animal Abuse                               506.391304\n",
      "          Bike/Roller/Skate Chronic                  729.000000\n",
      "          Blocked Driveway                           388.407936\n",
      "          Derelict Vehicle                           563.008097\n",
      "          Disorderly Youth                            73.000000\n",
      "          Drinking                                   328.933333\n",
      "          Graffiti                                   540.000000\n",
      "          Homeless Encampment                        403.060606\n",
      "          Illegal Fireworks                          148.000000\n",
      "          Illegal Parking                            434.763187\n",
      "          Noise - Commercial                         401.291866\n",
      "          Noise - House of Worship                   284.666667\n",
      "          Noise - Park                               405.131579\n",
      "          Noise - Street/Sidewalk                    397.424000\n",
      "          Noise - Vehicle                            328.876190\n",
      "          Traffic                                    290.076923\n",
      "          Urinating in Public                        385.500000\n",
      "          Vending                                    438.000000\n",
      "Woodside  Blocked Driveway                           384.181818\n",
      "          Derelict Vehicle                           298.000000\n",
      "          Illegal Parking                            313.180000\n",
      "          Noise - Commercial                         143.500000\n",
      "          Noise - Street/Sidewalk                    204.800000\n",
      "\n",
      "[778 rows x 1 columns]\n"
     ]
    }
   ],
   "source": [
    "print(data_grouped_withoutna)\n"
   ]
  },
  {
   "cell_type": "code",
   "execution_count": 74,
   "metadata": {},
   "outputs": [
    {
     "data": {
      "text/html": [
       "<div>\n",
       "<style scoped>\n",
       "    .dataframe tbody tr th:only-of-type {\n",
       "        vertical-align: middle;\n",
       "    }\n",
       "\n",
       "    .dataframe tbody tr th {\n",
       "        vertical-align: top;\n",
       "    }\n",
       "\n",
       "    .dataframe thead th {\n",
       "        text-align: right;\n",
       "    }\n",
       "</style>\n",
       "<table border=\"1\" class=\"dataframe\">\n",
       "  <thead>\n",
       "    <tr style=\"text-align: right;\">\n",
       "      <th></th>\n",
       "      <th></th>\n",
       "      <th>RequestClosingTime_Minutes</th>\n",
       "    </tr>\n",
       "    <tr>\n",
       "      <th>City</th>\n",
       "      <th>Complaint Type</th>\n",
       "      <th></th>\n",
       "    </tr>\n",
       "  </thead>\n",
       "  <tbody>\n",
       "    <tr>\n",
       "      <th rowspan=\"16\" valign=\"top\">ARVERNE</th>\n",
       "      <th>Drinking</th>\n",
       "      <td>15.000000</td>\n",
       "    </tr>\n",
       "    <tr>\n",
       "      <th>Vending</th>\n",
       "      <td>29.000000</td>\n",
       "    </tr>\n",
       "    <tr>\n",
       "      <th>Urinating in Public</th>\n",
       "      <td>42.000000</td>\n",
       "    </tr>\n",
       "    <tr>\n",
       "      <th>Panhandling</th>\n",
       "      <td>62.000000</td>\n",
       "    </tr>\n",
       "    <tr>\n",
       "      <th>Noise - Park</th>\n",
       "      <td>77.000000</td>\n",
       "    </tr>\n",
       "    <tr>\n",
       "      <th>Graffiti</th>\n",
       "      <td>92.000000</td>\n",
       "    </tr>\n",
       "    <tr>\n",
       "      <th>Noise - House of Worship</th>\n",
       "      <td>93.636364</td>\n",
       "    </tr>\n",
       "    <tr>\n",
       "      <th>Homeless Encampment</th>\n",
       "      <td>109.000000</td>\n",
       "    </tr>\n",
       "    <tr>\n",
       "      <th>Noise - Vehicle</th>\n",
       "      <td>111.714286</td>\n",
       "    </tr>\n",
       "    <tr>\n",
       "      <th>Noise - Street/Sidewalk</th>\n",
       "      <td>119.482759</td>\n",
       "    </tr>\n",
       "    <tr>\n",
       "      <th>Animal Abuse</th>\n",
       "      <td>129.236842</td>\n",
       "    </tr>\n",
       "    <tr>\n",
       "      <th>Noise - Commercial</th>\n",
       "      <td>137.500000</td>\n",
       "    </tr>\n",
       "    <tr>\n",
       "      <th>Illegal Parking</th>\n",
       "      <td>139.017241</td>\n",
       "    </tr>\n",
       "    <tr>\n",
       "      <th>Blocked Driveway</th>\n",
       "      <td>151.628571</td>\n",
       "    </tr>\n",
       "    <tr>\n",
       "      <th>Derelict Vehicle</th>\n",
       "      <td>177.962963</td>\n",
       "    </tr>\n",
       "    <tr>\n",
       "      <th>Disorderly Youth</th>\n",
       "      <td>215.500000</td>\n",
       "    </tr>\n",
       "    <tr>\n",
       "      <th rowspan=\"14\" valign=\"top\">ASTORIA</th>\n",
       "      <th>Panhandling</th>\n",
       "      <td>69.000000</td>\n",
       "    </tr>\n",
       "    <tr>\n",
       "      <th>Bike/Roller/Skate Chronic</th>\n",
       "      <td>104.266667</td>\n",
       "    </tr>\n",
       "    <tr>\n",
       "      <th>Noise - House of Worship</th>\n",
       "      <td>121.421053</td>\n",
       "    </tr>\n",
       "    <tr>\n",
       "      <th>Illegal Fireworks</th>\n",
       "      <td>166.500000</td>\n",
       "    </tr>\n",
       "    <tr>\n",
       "      <th>Disorderly Youth</th>\n",
       "      <td>174.333333</td>\n",
       "    </tr>\n",
       "    <tr>\n",
       "      <th>Noise - Park</th>\n",
       "      <td>179.721311</td>\n",
       "    </tr>\n",
       "    <tr>\n",
       "      <th>Noise - Commercial</th>\n",
       "      <td>187.972931</td>\n",
       "    </tr>\n",
       "    <tr>\n",
       "      <th>Noise - Street/Sidewalk</th>\n",
       "      <td>207.059585</td>\n",
       "    </tr>\n",
       "    <tr>\n",
       "      <th>Noise - Vehicle</th>\n",
       "      <td>210.539216</td>\n",
       "    </tr>\n",
       "    <tr>\n",
       "      <th>Urinating in Public</th>\n",
       "      <td>277.555556</td>\n",
       "    </tr>\n",
       "    <tr>\n",
       "      <th>Drinking</th>\n",
       "      <td>283.314286</td>\n",
       "    </tr>\n",
       "    <tr>\n",
       "      <th>Blocked Driveway</th>\n",
       "      <td>288.957601</td>\n",
       "    </tr>\n",
       "    <tr>\n",
       "      <th>Illegal Parking</th>\n",
       "      <td>289.996255</td>\n",
       "    </tr>\n",
       "    <tr>\n",
       "      <th>Homeless Encampment</th>\n",
       "      <td>294.937500</td>\n",
       "    </tr>\n",
       "    <tr>\n",
       "      <th>...</th>\n",
       "      <th>...</th>\n",
       "      <td>...</td>\n",
       "    </tr>\n",
       "    <tr>\n",
       "      <th rowspan=\"7\" valign=\"top\">WOODHAVEN</th>\n",
       "      <th>Noise - Commercial</th>\n",
       "      <td>233.525714</td>\n",
       "    </tr>\n",
       "    <tr>\n",
       "      <th>Animal Abuse</th>\n",
       "      <td>298.088889</td>\n",
       "    </tr>\n",
       "    <tr>\n",
       "      <th>Noise - Street/Sidewalk</th>\n",
       "      <td>314.255814</td>\n",
       "    </tr>\n",
       "    <tr>\n",
       "      <th>Blocked Driveway</th>\n",
       "      <td>331.370161</td>\n",
       "    </tr>\n",
       "    <tr>\n",
       "      <th>Illegal Parking</th>\n",
       "      <td>343.755132</td>\n",
       "    </tr>\n",
       "    <tr>\n",
       "      <th>Homeless Encampment</th>\n",
       "      <td>426.222222</td>\n",
       "    </tr>\n",
       "    <tr>\n",
       "      <th>Derelict Vehicle</th>\n",
       "      <td>446.980519</td>\n",
       "    </tr>\n",
       "    <tr>\n",
       "      <th rowspan=\"18\" valign=\"top\">WOODSIDE</th>\n",
       "      <th>Disorderly Youth</th>\n",
       "      <td>73.000000</td>\n",
       "    </tr>\n",
       "    <tr>\n",
       "      <th>Illegal Fireworks</th>\n",
       "      <td>148.000000</td>\n",
       "    </tr>\n",
       "    <tr>\n",
       "      <th>Noise - House of Worship</th>\n",
       "      <td>284.666667</td>\n",
       "    </tr>\n",
       "    <tr>\n",
       "      <th>Traffic</th>\n",
       "      <td>290.076923</td>\n",
       "    </tr>\n",
       "    <tr>\n",
       "      <th>Noise - Vehicle</th>\n",
       "      <td>328.876190</td>\n",
       "    </tr>\n",
       "    <tr>\n",
       "      <th>Drinking</th>\n",
       "      <td>328.933333</td>\n",
       "    </tr>\n",
       "    <tr>\n",
       "      <th>Urinating in Public</th>\n",
       "      <td>385.500000</td>\n",
       "    </tr>\n",
       "    <tr>\n",
       "      <th>Blocked Driveway</th>\n",
       "      <td>388.407936</td>\n",
       "    </tr>\n",
       "    <tr>\n",
       "      <th>Noise - Street/Sidewalk</th>\n",
       "      <td>397.424000</td>\n",
       "    </tr>\n",
       "    <tr>\n",
       "      <th>Noise - Commercial</th>\n",
       "      <td>401.291866</td>\n",
       "    </tr>\n",
       "    <tr>\n",
       "      <th>Homeless Encampment</th>\n",
       "      <td>403.060606</td>\n",
       "    </tr>\n",
       "    <tr>\n",
       "      <th>Noise - Park</th>\n",
       "      <td>405.131579</td>\n",
       "    </tr>\n",
       "    <tr>\n",
       "      <th>Illegal Parking</th>\n",
       "      <td>434.763187</td>\n",
       "    </tr>\n",
       "    <tr>\n",
       "      <th>Vending</th>\n",
       "      <td>438.000000</td>\n",
       "    </tr>\n",
       "    <tr>\n",
       "      <th>Animal Abuse</th>\n",
       "      <td>506.391304</td>\n",
       "    </tr>\n",
       "    <tr>\n",
       "      <th>Graffiti</th>\n",
       "      <td>540.000000</td>\n",
       "    </tr>\n",
       "    <tr>\n",
       "      <th>Derelict Vehicle</th>\n",
       "      <td>563.008097</td>\n",
       "    </tr>\n",
       "    <tr>\n",
       "      <th>Bike/Roller/Skate Chronic</th>\n",
       "      <td>729.000000</td>\n",
       "    </tr>\n",
       "    <tr>\n",
       "      <th rowspan=\"5\" valign=\"top\">Woodside</th>\n",
       "      <th>Noise - Commercial</th>\n",
       "      <td>143.500000</td>\n",
       "    </tr>\n",
       "    <tr>\n",
       "      <th>Noise - Street/Sidewalk</th>\n",
       "      <td>204.800000</td>\n",
       "    </tr>\n",
       "    <tr>\n",
       "      <th>Derelict Vehicle</th>\n",
       "      <td>298.000000</td>\n",
       "    </tr>\n",
       "    <tr>\n",
       "      <th>Illegal Parking</th>\n",
       "      <td>313.180000</td>\n",
       "    </tr>\n",
       "    <tr>\n",
       "      <th>Blocked Driveway</th>\n",
       "      <td>384.181818</td>\n",
       "    </tr>\n",
       "  </tbody>\n",
       "</table>\n",
       "<p>778 rows × 1 columns</p>\n",
       "</div>"
      ],
      "text/plain": [
       "                                     RequestClosingTime_Minutes\n",
       "City      Complaint Type                                       \n",
       "ARVERNE   Drinking                                    15.000000\n",
       "          Vending                                     29.000000\n",
       "          Urinating in Public                         42.000000\n",
       "          Panhandling                                 62.000000\n",
       "          Noise - Park                                77.000000\n",
       "          Graffiti                                    92.000000\n",
       "          Noise - House of Worship                    93.636364\n",
       "          Homeless Encampment                        109.000000\n",
       "          Noise - Vehicle                            111.714286\n",
       "          Noise - Street/Sidewalk                    119.482759\n",
       "          Animal Abuse                               129.236842\n",
       "          Noise - Commercial                         137.500000\n",
       "          Illegal Parking                            139.017241\n",
       "          Blocked Driveway                           151.628571\n",
       "          Derelict Vehicle                           177.962963\n",
       "          Disorderly Youth                           215.500000\n",
       "ASTORIA   Panhandling                                 69.000000\n",
       "          Bike/Roller/Skate Chronic                  104.266667\n",
       "          Noise - House of Worship                   121.421053\n",
       "          Illegal Fireworks                          166.500000\n",
       "          Disorderly Youth                           174.333333\n",
       "          Noise - Park                               179.721311\n",
       "          Noise - Commercial                         187.972931\n",
       "          Noise - Street/Sidewalk                    207.059585\n",
       "          Noise - Vehicle                            210.539216\n",
       "          Urinating in Public                        277.555556\n",
       "          Drinking                                   283.314286\n",
       "          Blocked Driveway                           288.957601\n",
       "          Illegal Parking                            289.996255\n",
       "          Homeless Encampment                        294.937500\n",
       "...                                                         ...\n",
       "WOODHAVEN Noise - Commercial                         233.525714\n",
       "          Animal Abuse                               298.088889\n",
       "          Noise - Street/Sidewalk                    314.255814\n",
       "          Blocked Driveway                           331.370161\n",
       "          Illegal Parking                            343.755132\n",
       "          Homeless Encampment                        426.222222\n",
       "          Derelict Vehicle                           446.980519\n",
       "WOODSIDE  Disorderly Youth                            73.000000\n",
       "          Illegal Fireworks                          148.000000\n",
       "          Noise - House of Worship                   284.666667\n",
       "          Traffic                                    290.076923\n",
       "          Noise - Vehicle                            328.876190\n",
       "          Drinking                                   328.933333\n",
       "          Urinating in Public                        385.500000\n",
       "          Blocked Driveway                           388.407936\n",
       "          Noise - Street/Sidewalk                    397.424000\n",
       "          Noise - Commercial                         401.291866\n",
       "          Homeless Encampment                        403.060606\n",
       "          Noise - Park                               405.131579\n",
       "          Illegal Parking                            434.763187\n",
       "          Vending                                    438.000000\n",
       "          Animal Abuse                               506.391304\n",
       "          Graffiti                                   540.000000\n",
       "          Derelict Vehicle                           563.008097\n",
       "          Bike/Roller/Skate Chronic                  729.000000\n",
       "Woodside  Noise - Commercial                         143.500000\n",
       "          Noise - Street/Sidewalk                    204.800000\n",
       "          Derelict Vehicle                           298.000000\n",
       "          Illegal Parking                            313.180000\n",
       "          Blocked Driveway                           384.181818\n",
       "\n",
       "[778 rows x 1 columns]"
      ]
     },
     "execution_count": 74,
     "metadata": {},
     "output_type": "execute_result"
    }
   ],
   "source": [
    "# Sorting by column - RequestClosingTime_Minutes for City on grouped data\n",
    "data_sorted = data_grouped_withoutna.sort_values(['City', 'RequestClosingTime_Minutes'])\n",
    "data_sorted"
   ]
  },
  {
   "cell_type": "markdown",
   "metadata": {},
   "source": [
    "Performing a statistical test for the following:\n",
    "\n",
    "Whether the average response time across complaint types is similar or not (overall)\n",
    "\n",
    "Are the type of complaint or service requested and location related?"
   ]
  },
  {
   "cell_type": "code",
   "execution_count": 76,
   "metadata": {},
   "outputs": [],
   "source": [
    "import scipy.stats as stats\n",
    "from math import sqrt"
   ]
  },
  {
   "cell_type": "code",
   "execution_count": 77,
   "metadata": {},
   "outputs": [
    {
     "data": {
      "text/plain": [
       "Blocked Driveway             76810\n",
       "Illegal Parking              74532\n",
       "Noise - Street/Sidewalk      48076\n",
       "Noise - Commercial           35247\n",
       "Derelict Vehicle             17588\n",
       "Noise - Vehicle              17033\n",
       "Animal Abuse                  7768\n",
       "Traffic                       4496\n",
       "Homeless Encampment           4416\n",
       "Noise - Park                  4022\n",
       "Vending                       3795\n",
       "Drinking                      1275\n",
       "Noise - House of Worship       929\n",
       "Posting Advertisement          648\n",
       "Urinating in Public            592\n",
       "Bike/Roller/Skate Chronic      424\n",
       "Panhandling                    305\n",
       "Disorderly Youth               286\n",
       "Illegal Fireworks              168\n",
       "Graffiti                       113\n",
       "Agency Issues                    6\n",
       "Squeegee                         4\n",
       "Animal in a Park                 1\n",
       "Name: Complaint Type, dtype: int64"
      ]
     },
     "execution_count": 77,
     "metadata": {},
     "output_type": "execute_result"
    }
   ],
   "source": [
    "#Stating Null and Alternate Hypothesis\n",
    "\n",
    "# H0 : average response time across complaint types is similar \n",
    "# H1 : average response time across complaint types is not similar \n",
    "\n",
    "data['Complaint Type'].value_counts()"
   ]
  },
  {
   "cell_type": "code",
   "execution_count": 78,
   "metadata": {},
   "outputs": [
    {
     "data": {
      "text/plain": [
       "Blocked Driveway           76810\n",
       "Illegal Parking            74532\n",
       "Noise - Street/Sidewalk    48076\n",
       "Noise - Commercial         35247\n",
       "Derelict Vehicle           17588\n",
       "Name: Complaint Type, dtype: int64"
      ]
     },
     "execution_count": 78,
     "metadata": {},
     "output_type": "execute_result"
    }
   ],
   "source": [
    "#Getting Top 5 complaint types\n",
    "\n",
    "top5_complaints_type = data['Complaint Type'].value_counts()[:5]\n",
    "top5_complaints_type"
   ]
  },
  {
   "cell_type": "code",
   "execution_count": 79,
   "metadata": {},
   "outputs": [
    {
     "data": {
      "text/plain": [
       "Index(['Blocked Driveway', 'Illegal Parking', 'Noise - Street/Sidewalk',\n",
       "       'Noise - Commercial', 'Derelict Vehicle'],\n",
       "      dtype='object')"
      ]
     },
     "execution_count": 79,
     "metadata": {},
     "output_type": "execute_result"
    }
   ],
   "source": [
    "top5_complaints_type_names = top5_complaints_type.index\n",
    "top5_complaints_type_names"
   ]
  },
  {
   "cell_type": "code",
   "execution_count": 80,
   "metadata": {},
   "outputs": [
    {
     "data": {
      "text/html": [
       "<div>\n",
       "<style scoped>\n",
       "    .dataframe tbody tr th:only-of-type {\n",
       "        vertical-align: middle;\n",
       "    }\n",
       "\n",
       "    .dataframe tbody tr th {\n",
       "        vertical-align: top;\n",
       "    }\n",
       "\n",
       "    .dataframe thead th {\n",
       "        text-align: right;\n",
       "    }\n",
       "</style>\n",
       "<table border=\"1\" class=\"dataframe\">\n",
       "  <thead>\n",
       "    <tr style=\"text-align: right;\">\n",
       "      <th></th>\n",
       "      <th>Complaint Type</th>\n",
       "      <th>RequestClosingTime_Minutes</th>\n",
       "    </tr>\n",
       "    <tr>\n",
       "      <th>Unique Key</th>\n",
       "      <th></th>\n",
       "      <th></th>\n",
       "    </tr>\n",
       "  </thead>\n",
       "  <tbody>\n",
       "    <tr>\n",
       "      <th>32310363</th>\n",
       "      <td>Noise - Street/Sidewalk</td>\n",
       "      <td>56</td>\n",
       "    </tr>\n",
       "    <tr>\n",
       "      <th>32309934</th>\n",
       "      <td>Blocked Driveway</td>\n",
       "      <td>87</td>\n",
       "    </tr>\n",
       "    <tr>\n",
       "      <th>32309159</th>\n",
       "      <td>Blocked Driveway</td>\n",
       "      <td>292</td>\n",
       "    </tr>\n",
       "    <tr>\n",
       "      <th>32305098</th>\n",
       "      <td>Illegal Parking</td>\n",
       "      <td>466</td>\n",
       "    </tr>\n",
       "    <tr>\n",
       "      <th>32306529</th>\n",
       "      <td>Illegal Parking</td>\n",
       "      <td>208</td>\n",
       "    </tr>\n",
       "  </tbody>\n",
       "</table>\n",
       "</div>"
      ],
      "text/plain": [
       "                     Complaint Type  RequestClosingTime_Minutes\n",
       "Unique Key                                                     \n",
       "32310363    Noise - Street/Sidewalk                          56\n",
       "32309934           Blocked Driveway                          87\n",
       "32309159           Blocked Driveway                         292\n",
       "32305098            Illegal Parking                         466\n",
       "32306529            Illegal Parking                         208"
      ]
     },
     "execution_count": 80,
     "metadata": {},
     "output_type": "execute_result"
    }
   ],
   "source": [
    "#Subsetting Data based on Complaint Type \n",
    "sample_data = data.loc[data['Complaint Type'].isin(top5_complaints_type_names), ['Complaint Type', 'RequestClosingTime_Minutes']]\n",
    "sample_data.head()"
   ]
  },
  {
   "cell_type": "code",
   "execution_count": 81,
   "metadata": {},
   "outputs": [
    {
     "data": {
      "text/plain": [
       "Complaint Type                0\n",
       "RequestClosingTime_Minutes    0\n",
       "dtype: int64"
      ]
     },
     "execution_count": 81,
     "metadata": {},
     "output_type": "execute_result"
    }
   ],
   "source": [
    "#Checking whether the dataset has null values\n",
    "\n",
    "sample_data.isnull().sum()\n"
   ]
  },
  {
   "cell_type": "code",
   "execution_count": 82,
   "metadata": {},
   "outputs": [
    {
     "data": {
      "text/plain": [
       "(252253, 2)"
      ]
     },
     "execution_count": 82,
     "metadata": {},
     "output_type": "execute_result"
    }
   ],
   "source": [
    "sample_data.shape\n"
   ]
  },
  {
   "cell_type": "code",
   "execution_count": 83,
   "metadata": {},
   "outputs": [
    {
     "data": {
      "text/plain": [
       "Unique Key\n",
       "32309934     87\n",
       "32309159    292\n",
       "32307009    108\n",
       "32308391     84\n",
       "32305071    469\n",
       "Name: RequestClosingTime_Minutes, dtype: int64"
      ]
     },
     "execution_count": 83,
     "metadata": {},
     "output_type": "execute_result"
    }
   ],
   "source": [
    "s1 = sample_data[sample_data['Complaint Type'] == top5_complaints_type_names[0]].RequestClosingTime_Minutes\n",
    "s1.head()"
   ]
  },
  {
   "cell_type": "code",
   "execution_count": 84,
   "metadata": {},
   "outputs": [
    {
     "data": {
      "text/plain": [
       "Unique Key\n",
       "32305098    466\n",
       "32306529    208\n",
       "32306554    114\n",
       "32306559    118\n",
       "32308581    514\n",
       "Name: RequestClosingTime_Minutes, dtype: int64"
      ]
     },
     "execution_count": 84,
     "metadata": {},
     "output_type": "execute_result"
    }
   ],
   "source": [
    "s2 = sample_data[sample_data['Complaint Type'] == top5_complaints_type_names[1]].RequestClosingTime_Minutes\n",
    "s2.head()"
   ]
  },
  {
   "cell_type": "code",
   "execution_count": 85,
   "metadata": {},
   "outputs": [
    {
     "data": {
      "text/plain": [
       "Unique Key\n",
       "32310363     56\n",
       "32306612    149\n",
       "32308195     48\n",
       "32308014     30\n",
       "32308825     90\n",
       "Name: RequestClosingTime_Minutes, dtype: int64"
      ]
     },
     "execution_count": 85,
     "metadata": {},
     "output_type": "execute_result"
    }
   ],
   "source": [
    "s3 = sample_data[sample_data['Complaint Type'] == top5_complaints_type_names[2]].RequestClosingTime_Minutes\n",
    "s3.head()"
   ]
  },
  {
   "cell_type": "code",
   "execution_count": 86,
   "metadata": {},
   "outputs": [
    {
     "data": {
      "text/plain": [
       "Unique Key\n",
       "32310273     52\n",
       "32306617    177\n",
       "32307233     76\n",
       "32308850    150\n",
       "32310297    120\n",
       "Name: RequestClosingTime_Minutes, dtype: int64"
      ]
     },
     "execution_count": 86,
     "metadata": {},
     "output_type": "execute_result"
    }
   ],
   "source": [
    "s4 = sample_data[sample_data['Complaint Type'] == top5_complaints_type_names[3]].RequestClosingTime_Minutes\n",
    "s4.head()"
   ]
  },
  {
   "cell_type": "code",
   "execution_count": 87,
   "metadata": {},
   "outputs": [
    {
     "data": {
      "text/plain": [
       "Unique Key\n",
       "32309424    630\n",
       "32306497    238\n",
       "32305124     82\n",
       "32308002    248\n",
       "32305798     45\n",
       "Name: RequestClosingTime_Minutes, dtype: int64"
      ]
     },
     "execution_count": 87,
     "metadata": {},
     "output_type": "execute_result"
    }
   ],
   "source": [
    "s5 = sample_data[sample_data['Complaint Type'] == top5_complaints_type_names[4]].RequestClosingTime_Minutes\n",
    "s5.head()"
   ]
  },
  {
   "cell_type": "code",
   "execution_count": 88,
   "metadata": {},
   "outputs": [
    {
     "data": {
      "text/plain": [
       "F_onewayResult(statistic=1799.608830438338, pvalue=0.0)"
      ]
     },
     "execution_count": 88,
     "metadata": {},
     "output_type": "execute_result"
    }
   ],
   "source": [
    "stats.f_oneway(s1, s2, s3, s4, s5)\n"
   ]
  },
  {
   "cell_type": "raw",
   "metadata": {},
   "source": [
    "pvalue is less than 0.05 so we can safely reject null hypothesis and conclude that average response time across complaint types is not similar"
   ]
  },
  {
   "cell_type": "code",
   "execution_count": 89,
   "metadata": {},
   "outputs": [],
   "source": [
    "#Are the type of complaint or service requested and location related?\n",
    "\n",
    "# H0 : 2 categories - Complain Type and Location is independent \n",
    "# Ha : 2 categories - Complain Type and Location is dependent"
   ]
  },
  {
   "cell_type": "code",
   "execution_count": 90,
   "metadata": {},
   "outputs": [
    {
     "data": {
      "text/plain": [
       "BROOKLYN         98295\n",
       "NEW YORK         65972\n",
       "BRONX            40697\n",
       "STATEN ISLAND    12338\n",
       "JAMAICA           7294\n",
       "Name: City, dtype: int64"
      ]
     },
     "execution_count": 90,
     "metadata": {},
     "output_type": "execute_result"
    }
   ],
   "source": [
    "top5_location = data['City'].value_counts()[:5]\n",
    "top5_location"
   ]
  },
  {
   "cell_type": "code",
   "execution_count": 91,
   "metadata": {},
   "outputs": [
    {
     "data": {
      "text/plain": [
       "Index(['BROOKLYN', 'NEW YORK', 'BRONX', 'STATEN ISLAND', 'JAMAICA'], dtype='object')"
      ]
     },
     "execution_count": 91,
     "metadata": {},
     "output_type": "execute_result"
    }
   ],
   "source": [
    "top5_location_names = top5_location.index\n",
    "top5_location_names"
   ]
  },
  {
   "cell_type": "code",
   "execution_count": 92,
   "metadata": {},
   "outputs": [
    {
     "data": {
      "text/html": [
       "<div>\n",
       "<style scoped>\n",
       "    .dataframe tbody tr th:only-of-type {\n",
       "        vertical-align: middle;\n",
       "    }\n",
       "\n",
       "    .dataframe tbody tr th {\n",
       "        vertical-align: top;\n",
       "    }\n",
       "\n",
       "    .dataframe thead th {\n",
       "        text-align: right;\n",
       "    }\n",
       "</style>\n",
       "<table border=\"1\" class=\"dataframe\">\n",
       "  <thead>\n",
       "    <tr style=\"text-align: right;\">\n",
       "      <th></th>\n",
       "      <th>Complaint Type</th>\n",
       "      <th>City</th>\n",
       "    </tr>\n",
       "    <tr>\n",
       "      <th>Unique Key</th>\n",
       "      <th></th>\n",
       "      <th></th>\n",
       "    </tr>\n",
       "  </thead>\n",
       "  <tbody>\n",
       "    <tr>\n",
       "      <th>32310363</th>\n",
       "      <td>Noise - Street/Sidewalk</td>\n",
       "      <td>NEW YORK</td>\n",
       "    </tr>\n",
       "    <tr>\n",
       "      <th>32309159</th>\n",
       "      <td>Blocked Driveway</td>\n",
       "      <td>BRONX</td>\n",
       "    </tr>\n",
       "    <tr>\n",
       "      <th>32305098</th>\n",
       "      <td>Illegal Parking</td>\n",
       "      <td>BRONX</td>\n",
       "    </tr>\n",
       "    <tr>\n",
       "      <th>32306554</th>\n",
       "      <td>Illegal Parking</td>\n",
       "      <td>BROOKLYN</td>\n",
       "    </tr>\n",
       "    <tr>\n",
       "      <th>32306559</th>\n",
       "      <td>Illegal Parking</td>\n",
       "      <td>NEW YORK</td>\n",
       "    </tr>\n",
       "  </tbody>\n",
       "</table>\n",
       "</div>"
      ],
      "text/plain": [
       "                     Complaint Type      City\n",
       "Unique Key                                   \n",
       "32310363    Noise - Street/Sidewalk  NEW YORK\n",
       "32309159           Blocked Driveway     BRONX\n",
       "32305098            Illegal Parking     BRONX\n",
       "32306554            Illegal Parking  BROOKLYN\n",
       "32306559            Illegal Parking  NEW YORK"
      ]
     },
     "execution_count": 92,
     "metadata": {},
     "output_type": "execute_result"
    }
   ],
   "source": [
    "sample_data_location_c_type = data.loc[(data['Complaint Type'].isin(top5_complaints_type_names)) & (data['City'].isin(top5_location_names)), ['Complaint Type', 'City']]\n",
    "sample_data_location_c_type.head()"
   ]
  },
  {
   "cell_type": "code",
   "execution_count": 93,
   "metadata": {},
   "outputs": [
    {
     "data": {
      "text/html": [
       "<div>\n",
       "<style scoped>\n",
       "    .dataframe tbody tr th:only-of-type {\n",
       "        vertical-align: middle;\n",
       "    }\n",
       "\n",
       "    .dataframe tbody tr th {\n",
       "        vertical-align: top;\n",
       "    }\n",
       "\n",
       "    .dataframe thead th {\n",
       "        text-align: right;\n",
       "    }\n",
       "</style>\n",
       "<table border=\"1\" class=\"dataframe\">\n",
       "  <thead>\n",
       "    <tr style=\"text-align: right;\">\n",
       "      <th>City</th>\n",
       "      <th>BRONX</th>\n",
       "      <th>BROOKLYN</th>\n",
       "      <th>JAMAICA</th>\n",
       "      <th>NEW YORK</th>\n",
       "      <th>STATEN ISLAND</th>\n",
       "      <th>All</th>\n",
       "    </tr>\n",
       "    <tr>\n",
       "      <th>Complaint Type</th>\n",
       "      <th></th>\n",
       "      <th></th>\n",
       "      <th></th>\n",
       "      <th></th>\n",
       "      <th></th>\n",
       "      <th></th>\n",
       "    </tr>\n",
       "  </thead>\n",
       "  <tbody>\n",
       "    <tr>\n",
       "      <th>Blocked Driveway</th>\n",
       "      <td>12754</td>\n",
       "      <td>28147</td>\n",
       "      <td>2817</td>\n",
       "      <td>2070</td>\n",
       "      <td>2142</td>\n",
       "      <td>47930</td>\n",
       "    </tr>\n",
       "    <tr>\n",
       "      <th>Derelict Vehicle</th>\n",
       "      <td>1952</td>\n",
       "      <td>5179</td>\n",
       "      <td>953</td>\n",
       "      <td>537</td>\n",
       "      <td>1766</td>\n",
       "      <td>10387</td>\n",
       "    </tr>\n",
       "    <tr>\n",
       "      <th>Illegal Parking</th>\n",
       "      <td>7859</td>\n",
       "      <td>27461</td>\n",
       "      <td>1421</td>\n",
       "      <td>12125</td>\n",
       "      <td>4886</td>\n",
       "      <td>53752</td>\n",
       "    </tr>\n",
       "    <tr>\n",
       "      <th>Noise - Commercial</th>\n",
       "      <td>2433</td>\n",
       "      <td>11458</td>\n",
       "      <td>429</td>\n",
       "      <td>14544</td>\n",
       "      <td>677</td>\n",
       "      <td>29541</td>\n",
       "    </tr>\n",
       "    <tr>\n",
       "      <th>Noise - Street/Sidewalk</th>\n",
       "      <td>8890</td>\n",
       "      <td>13354</td>\n",
       "      <td>339</td>\n",
       "      <td>20426</td>\n",
       "      <td>816</td>\n",
       "      <td>43825</td>\n",
       "    </tr>\n",
       "    <tr>\n",
       "      <th>All</th>\n",
       "      <td>33888</td>\n",
       "      <td>85599</td>\n",
       "      <td>5959</td>\n",
       "      <td>49702</td>\n",
       "      <td>10287</td>\n",
       "      <td>185435</td>\n",
       "    </tr>\n",
       "  </tbody>\n",
       "</table>\n",
       "</div>"
      ],
      "text/plain": [
       "City                     BRONX  BROOKLYN  JAMAICA  NEW YORK  STATEN ISLAND  \\\n",
       "Complaint Type                                                               \n",
       "Blocked Driveway         12754     28147     2817      2070           2142   \n",
       "Derelict Vehicle          1952      5179      953       537           1766   \n",
       "Illegal Parking           7859     27461     1421     12125           4886   \n",
       "Noise - Commercial        2433     11458      429     14544            677   \n",
       "Noise - Street/Sidewalk   8890     13354      339     20426            816   \n",
       "All                      33888     85599     5959     49702          10287   \n",
       "\n",
       "City                        All  \n",
       "Complaint Type                   \n",
       "Blocked Driveway          47930  \n",
       "Derelict Vehicle          10387  \n",
       "Illegal Parking           53752  \n",
       "Noise - Commercial        29541  \n",
       "Noise - Street/Sidewalk   43825  \n",
       "All                      185435  "
      ]
     },
     "execution_count": 93,
     "metadata": {},
     "output_type": "execute_result"
    }
   ],
   "source": [
    "pd.crosstab(sample_data_location_c_type['Complaint Type'], sample_data_location_c_type['City'], margins=True)\n"
   ]
  },
  {
   "cell_type": "code",
   "execution_count": 94,
   "metadata": {},
   "outputs": [],
   "source": [
    "ch2, p_value, df, exp_frq = stats.chi2_contingency(pd.crosstab(sample_data_location_c_type['Complaint Type'], sample_data_location_c_type['City']))\n"
   ]
  },
  {
   "cell_type": "code",
   "execution_count": 95,
   "metadata": {},
   "outputs": [
    {
     "name": "stdout",
     "output_type": "stream",
     "text": [
      "40522.94060211538\n",
      "0.0\n"
     ]
    }
   ],
   "source": [
    "print(ch2)\n",
    "print(p_value)"
   ]
  },
  {
   "cell_type": "code",
   "execution_count": 97,
   "metadata": {},
   "outputs": [],
   "source": [
    "# pvalue is less than 0.05 so we reject null hypothesis means complain type and location is not independent.\n"
   ]
  },
  {
   "cell_type": "code",
   "execution_count": null,
   "metadata": {},
   "outputs": [],
   "source": []
  }
 ],
 "metadata": {
  "kernelspec": {
   "display_name": "Python 3",
   "language": "python",
   "name": "python3"
  },
  "language_info": {
   "codemirror_mode": {
    "name": "ipython",
    "version": 3
   },
   "file_extension": ".py",
   "mimetype": "text/x-python",
   "name": "python",
   "nbconvert_exporter": "python",
   "pygments_lexer": "ipython3",
   "version": "3.7.6"
  }
 },
 "nbformat": 4,
 "nbformat_minor": 4
}
